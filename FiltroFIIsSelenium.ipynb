{
 "cells": [
  {
   "cell_type": "code",
   "execution_count": 5,
   "id": "c297a578-8293-46de-9bb7-f6f58dd29531",
   "metadata": {},
   "outputs": [
    {
     "name": "stdout",
     "output_type": "stream",
     "text": [
      "Número de linhas: 452\n",
      "Número de colunas: 30\n"
     ]
    }
   ],
   "source": [
    "from selenium.webdriver import Chrome\n",
    "from selenium.webdriver import ChromeOptions\n",
    "import pandas as pd\n",
    "import numpy as np\n",
    "from selenium import webdriver\n",
    "from selenium.webdriver.chrome.service import Service\n",
    "from selenium.webdriver.common.by import By\n",
    "import time\n",
    "\n",
    "options = ChromeOptions()\n",
    "options.add_argument(\"--headless=new\")\n",
    "\n",
    "url = \"https://www.fundsexplorer.com.br/ranking\"\n",
    "\n",
    "# Provide the path to the Chrome WebDriver executable\n",
    "driver_path = '/home/cs/Documentos/Projeto_Controle_Financeiro/chromedriver'\n",
    "\n",
    "\n",
    "\n",
    "driver = webdriver.Chrome(options=options)\n",
    "\n",
    "driver.get(url)\n",
    "\n",
    "table_XPath = driver.find_elements(By.XPATH, '//*[@id=\"upTo--default-fiis-table\"]/div/table')\n",
    "\n",
    "# Encontrar todas as linhas da tabela\n",
    "linhas = driver.find_elements(By.TAG_NAME, 'tr')\n",
    "\n",
    "# Encontrar todas as colunas da primeira linha para determinar o número de colunas\n",
    "primeira_linha = linhas[0]\n",
    "colunas = primeira_linha.find_elements(By.TAG_NAME, 'th')\n",
    "\n",
    "# Obter o número de linhas e colunas\n",
    "numero_linhas = len(linhas)\n",
    "numero_colunas = len(colunas)\n",
    "\n",
    "print(\"Número de linhas:\", numero_linhas)\n",
    "print(\"Número de colunas:\", numero_colunas)\n",
    "\n",
    "# Listas para armazenar os dados da tabela\n",
    "\n",
    "# Listas para armazenar os dados da tabela e os nomes das colunas\n",
    "dados_tabela = []\n",
    "nomes_colunas = []\n",
    "\n",
    "# Iterar sobre as linhas da tabela para coletar os dados e os nomes das colunas\n",
    "for i, linha in enumerate(linhas):\n",
    "    # Se for a primeira linha, coletar os nomes das colunas\n",
    "    if i == 0:\n",
    "        # Encontrar todas as células da linha (cabeçalho)\n",
    "        celulas = linha.find_elements(By.TAG_NAME, 'th')\n",
    "        # Extrair o texto de cada célula e adicionar à lista de nomes de colunas\n",
    "        nomes_colunas = [celula.text for celula in celulas]\n",
    "    else:\n",
    "        # Para as outras linhas (dados), coletar os dados das células\n",
    "        # Encontrar todas as células da linha\n",
    "        celulas = linha.find_elements(By.TAG_NAME, 'td')\n",
    "        # Extrair o texto de cada célula e adicionar à lista de dados da tabela\n",
    "        dados_linha = [celula.text for celula in celulas]\n",
    "        # Garantir que todas as linhas tenham o mesmo número de células\n",
    "        dados_linha += [''] * (len(nomes_colunas) - len(dados_linha))\n",
    "        dados_tabela.append(dados_linha)\n",
    "\n",
    "# Criar DataFrame com os dados da tabela e os nomes das colunas\n",
    "df = pd.DataFrame(dados_tabela, columns=nomes_colunas)\n",
    "\n",
    "#Filtros para normalizar os dados para futura analise\n",
    "\n",
    "df = df.fillna('')\n",
    "df = df.replace('N/A', '', regex=True)\n",
    "df = df.replace('\\.', '', regex=True)\n",
    "df = df.replace(',', '.', regex=True)\n",
    "df['P/VP'] = pd.to_numeric(df['P/VP'])\n",
    "df = df.replace('%', '', regex=True)\n",
    "\n",
    "\n",
    "df['NUM. COTISTAS'] = pd.to_numeric(df['NUM. COTISTAS'])\n",
    "df['DIVIDEND YIELD'] = pd.to_numeric(df['DIVIDEND YIELD'])\n",
    "df['NUM. COTISTAS'] = pd.to_numeric(df['NUM. COTISTAS'])\n",
    "df['NUM. COTISTAS'] = pd.to_numeric(df['NUM. COTISTAS'])\n",
    "df.to_csv('/home/cs/Downloads/tabela.csv', index=False)"
   ]
  },
  {
   "cell_type": "code",
   "execution_count": 8,
   "id": "ad103355-9d59-425b-b388-b6783600201b",
   "metadata": {},
   "outputs": [
    {
     "name": "stdout",
     "output_type": "stream",
     "text": [
      "Empty DataFrame\n",
      "Columns: [FUNDOS, SETOR, Unnamed: 2, LIQUIDEZ DIÁRIA (R$), P/VP, Unnamed: 5, DIVIDEND YIELD, Unnamed: 7, Unnamed: 8, Unnamed: 9, Unnamed: 10, Unnamed: 11, Unnamed: 12, Unnamed: 13, VARIAÇÃO PREÇO, Unnamed: 15, Unnamed: 16, PATRIMÔNIO LÍQUIDO, Unnamed: 18, Unnamed: 19, Unnamed: 20, Unnamed: 21, Unnamed: 22, Unnamed: 23, Unnamed: 24, Unnamed: 25, NUM. COTISTAS, Unnamed: 27, Unnamed: 28, Unnamed: 29]\n",
      "Index: []\n",
      "\n",
      "[0 rows x 30 columns]\n",
      "Empty DataFrame\n",
      "Columns: [FUNDOS, SETOR, Unnamed: 2, LIQUIDEZ DIÁRIA (R$), P/VP, Unnamed: 5, DIVIDEND YIELD, Unnamed: 7, Unnamed: 8, Unnamed: 9, Unnamed: 10, Unnamed: 11, Unnamed: 12, Unnamed: 13, VARIAÇÃO PREÇO, Unnamed: 15, Unnamed: 16, PATRIMÔNIO LÍQUIDO, Unnamed: 18, Unnamed: 19, Unnamed: 20, Unnamed: 21, Unnamed: 22, Unnamed: 23, Unnamed: 24, Unnamed: 25, NUM. COTISTAS, Unnamed: 27, Unnamed: 28, Unnamed: 29]\n",
      "Index: []\n",
      "\n",
      "[0 rows x 30 columns]\n"
     ]
    }
   ],
   "source": [
    "import pandas as pd\n",
    "\n",
    "df = pd.read_csv('/home/cs/Downloads/tabela.csv')\n",
    "\n",
    "NUMCOTISTAS = 50000\n",
    "P_VP = 0.95\n",
    "DIVIDEND_YIELD = 80\n",
    "SETOR = 'MISTO' #PAPÉIS, FUNDO DE FUNDOS, LAJES CORPORATIVAS, INDEFINIDO, SHOPPINGS, MISTO\n",
    "\n",
    "# Filtrando o DataFrame por número de cotistas igual a 1000\n",
    "Filtro1 = df[(df[\"NUM. COTISTAS\"] >= NUMCOTISTAS) & \n",
    "            (df[\"P/VP\"] <= P_VP) & \n",
    "            (df[\"DIVIDEND YIELD\"] >= DIVIDEND_YIELD)]\n",
    "\n",
    "Filtro2 = Filtro1[Filtro1[\"SETOR\"] == SETOR]\n",
    "\n",
    "print(Filtro1)\n",
    "print(Filtro2)"
   ]
  },
  {
   "cell_type": "code",
   "execution_count": null,
   "id": "afe6929a-a83d-42fd-bd96-d70782f14425",
   "metadata": {},
   "outputs": [],
   "source": []
  }
 ],
 "metadata": {
  "kernelspec": {
   "display_name": "Python 3 (ipykernel)",
   "language": "python",
   "name": "python3"
  },
  "language_info": {
   "codemirror_mode": {
    "name": "ipython",
    "version": 3
   },
   "file_extension": ".py",
   "mimetype": "text/x-python",
   "name": "python",
   "nbconvert_exporter": "python",
   "pygments_lexer": "ipython3",
   "version": "3.10.9"
  }
 },
 "nbformat": 4,
 "nbformat_minor": 5
}
